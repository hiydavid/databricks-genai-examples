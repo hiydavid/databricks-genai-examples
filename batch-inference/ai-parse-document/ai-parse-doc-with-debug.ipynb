{
 "cells": [
  {
   "cell_type": "markdown",
   "metadata": {
    "application/vnd.databricks.v1+cell": {
     "cellMetadata": {},
     "inputWidgets": {},
     "nuid": "faea3cd4-b20c-45fd-a6a7-a62215778518",
     "showTitle": false,
     "tableResultSettingsMap": {},
     "title": ""
    }
   },
   "source": [
    "# AI Parse Document with Debugger Interface\n",
    "\n",
    "* To learn more, visit the official `ai_parse_document` [documentation page](https://docs.databricks.com/aws/en/sql/language-manual/functions/ai_parse_document).\n",
    "* This notebook shows how to use `ai_parse_document` on a sample PDF file. And then **use a debugger interface to check the output against the parsed results**. \n",
    "* This notebook should be run natively on Databricks, using `Serverless` compute option, with at least version 3 env. \n",
    "* For this example notebook, I'm using [Nvidia's company overview presentation from August 2025](https://s201.q4cdn.com/141608511/files/doc_presentations/2025/08/Q226-NVDA-Company-Overview-Final.pdf)."
   ]
  },
  {
   "cell_type": "markdown",
   "metadata": {},
   "source": [
    "## Setup\n",
    "\n",
    "For `page_selection`, here are the supported options:\n",
    "- \"all\" or None: Display all pages\n",
    "- \"3\": Display specific page (1-indexed)\n",
    "- \"1-5\": Display page range (inclusive, 1-indexed)\n",
    "- \"1,3,5\": Display list of specific pages (1-indexed)\n",
    "- \"1-3,7,10-12\": Mixed ranges and individual pages"
   ]
  },
  {
   "cell_type": "code",
   "execution_count": null,
   "metadata": {
    "application/vnd.databricks.v1+cell": {
     "cellMetadata": {
      "byteLimit": 2048000,
      "rowLimit": 10000
     },
     "inputWidgets": {},
     "nuid": "d581ecf5-260a-4fb4-97eb-941f4e3526a4",
     "showTitle": false,
     "tableResultSettingsMap": {},
     "title": ""
    }
   },
   "outputs": [],
   "source": [
    "# Exec Parameters\n",
    "catalog = \"users\"\n",
    "schema = \"david_huang\"\n",
    "volume = \"ai_parse_doc_examples\"\n",
    "input_file = \"Q226-NVDA-Company-Overview-Final.pdf\"\n",
    "page_selection = \"all\""
   ]
  },
  {
   "cell_type": "code",
   "execution_count": null,
   "metadata": {
    "application/vnd.databricks.v1+cell": {
     "cellMetadata": {
      "byteLimit": 2048000,
      "rowLimit": 10000
     },
     "inputWidgets": {},
     "nuid": "97dbdf62-0770-4e54-ac14-d4ddefd32167",
     "showTitle": true,
     "tableResultSettingsMap": {},
     "title": "Configuration Parameters"
    }
   },
   "outputs": [],
   "source": [
    "# Path configuration\n",
    "source_files = f\"/Volumes/{catalog}/{schema}/{volume}/input/{input_file}\"\n",
    "image_output_path = f\"/Volumes/{catalog}/{schema}/{volume}/output/\""
   ]
  },
  {
   "cell_type": "markdown",
   "metadata": {},
   "source": [
    "## Parse document"
   ]
  },
  {
   "cell_type": "code",
   "execution_count": null,
   "metadata": {
    "application/vnd.databricks.v1+cell": {
     "cellMetadata": {
      "byteLimit": 2048000,
      "rowLimit": 10000
     },
     "inputWidgets": {},
     "nuid": "f54191ba-544e-49d5-9895-6a50ac4f6ef7",
     "showTitle": true,
     "tableResultSettingsMap": {},
     "title": "Run Document Parse Code (may take some time)"
    }
   },
   "outputs": [],
   "source": [
    "# SQL statement with ai_parse_document()\n",
    "if not input_file:\n",
    "    source_files = f\"/Volumes/{catalog}/{schema}/{volume}/input/*\"\n",
    "sql = f\"\"\"\n",
    "with parsed_documents AS (\n",
    "  SELECT\n",
    "    path,\n",
    "    ai_parse_document(\n",
    "      content,\n",
    "      map(\n",
    "        'version', '2.0',\n",
    "        'imageOutputPath', '{image_output_path}',\n",
    "        'descriptionElementTypes', '*'\n",
    "      )\n",
    "  ) as parsed\n",
    "  FROM\n",
    "    read_files('{source_files}', format => 'binaryFile')\n",
    ")\n",
    "select * from parsed_documents\n",
    "\"\"\""
   ]
  },
  {
   "cell_type": "code",
   "execution_count": null,
   "metadata": {},
   "outputs": [],
   "source": [
    "parsed_results = [row.parsed for row in spark.sql(sql).collect()]"
   ]
  },
  {
   "cell_type": "markdown",
   "metadata": {},
   "source": [
    "## Run debugger"
   ]
  },
  {
   "cell_type": "code",
   "execution_count": 0,
   "metadata": {
    "application/vnd.databricks.v1+cell": {
     "cellMetadata": {
      "byteLimit": 2048000,
      "rowLimit": 10000
     },
     "inputWidgets": {},
     "nuid": "85f0f2b2-7961-4f1a-8697-513c1ff1105f",
     "showTitle": false,
     "tableResultSettingsMap": {},
     "title": ""
    }
   },
   "outputs": [],
   "source": [
    "from debugger import render_ai_parse_output_interactive"
   ]
  },
  {
   "cell_type": "code",
   "execution_count": 0,
   "metadata": {
    "application/vnd.databricks.v1+cell": {
     "cellMetadata": {
      "byteLimit": 2048000,
      "rowLimit": 10000
     },
     "inputWidgets": {},
     "nuid": "66200af0-ed48-4409-b50d-556073bb2f51",
     "showTitle": true,
     "tableResultSettingsMap": {},
     "title": "Debug Visualization Results"
    }
   },
   "outputs": [],
   "source": [
    "render_ai_parse_output_interactive(parsed_results)"
   ]
  }
 ],
 "metadata": {
  "application/vnd.databricks.v1+notebook": {
   "computePreferences": {
    "hardware": {
     "accelerator": null,
     "gpuPoolId": null,
     "memory": null
    }
   },
   "dashboards": [],
   "environmentMetadata": {
    "base_environment": "",
    "environment_version": "4"
   },
   "inputWidgetPreferences": null,
   "language": "python",
   "notebookMetadata": {
    "pythonIndentUnit": 2
   },
   "notebookName": "ai-parse-doc-with-debug",
   "widgets": {
    "catalog": {
     "currentValue": "users",
     "nuid": "86611320-826f-4cfc-a019-161f678560e7",
     "typedWidgetInfo": {
      "autoCreated": false,
      "defaultValue": "",
      "label": null,
      "name": "catalog",
      "options": {
       "validationRegex": null,
       "widgetDisplayType": "Text"
      },
      "parameterDataType": "String"
     },
     "widgetInfo": {
      "defaultValue": "",
      "label": null,
      "name": "catalog",
      "options": {
       "autoCreated": null,
       "validationRegex": null,
       "widgetType": "text"
      },
      "widgetType": "text"
     }
    },
    "input_file": {
     "currentValue": "Q226-NVDA-Company-Overview-Final.pdf",
     "nuid": "5b280e93-0065-4699-af97-de109e0f6d13",
     "typedWidgetInfo": {
      "autoCreated": false,
      "defaultValue": "",
      "label": null,
      "name": "input_file",
      "options": {
       "validationRegex": null,
       "widgetDisplayType": "Text"
      },
      "parameterDataType": "String"
     },
     "widgetInfo": {
      "defaultValue": "",
      "label": null,
      "name": "input_file",
      "options": {
       "autoCreated": null,
       "validationRegex": null,
       "widgetType": "text"
      },
      "widgetType": "text"
     }
    },
    "page_selection": {
     "currentValue": "all",
     "nuid": "3ac24cc8-60c6-4cea-8819-614048707454",
     "typedWidgetInfo": {
      "autoCreated": false,
      "defaultValue": "all",
      "label": null,
      "name": "page_selection",
      "options": {
       "validationRegex": null,
       "widgetDisplayType": "Text"
      },
      "parameterDataType": "String"
     },
     "widgetInfo": {
      "defaultValue": "all",
      "label": null,
      "name": "page_selection",
      "options": {
       "autoCreated": null,
       "validationRegex": null,
       "widgetType": "text"
      },
      "widgetType": "text"
     }
    },
    "schema": {
     "currentValue": "david_huang",
     "nuid": "816888e0-da3d-486d-9e36-5c2a5a35ab5c",
     "typedWidgetInfo": {
      "autoCreated": false,
      "defaultValue": "",
      "label": null,
      "name": "schema",
      "options": {
       "validationRegex": null,
       "widgetDisplayType": "Text"
      },
      "parameterDataType": "String"
     },
     "widgetInfo": {
      "defaultValue": "",
      "label": null,
      "name": "schema",
      "options": {
       "autoCreated": null,
       "validationRegex": null,
       "widgetType": "text"
      },
      "widgetType": "text"
     }
    },
    "volume": {
     "currentValue": "ai_parse_doc_examples",
     "nuid": "7e05c184-7d20-4738-8ad4-c5765a39ca93",
     "typedWidgetInfo": {
      "autoCreated": false,
      "defaultValue": "",
      "label": null,
      "name": "volume",
      "options": {
       "validationRegex": null,
       "widgetDisplayType": "Text"
      },
      "parameterDataType": "String"
     },
     "widgetInfo": {
      "defaultValue": "",
      "label": null,
      "name": "volume",
      "options": {
       "autoCreated": null,
       "validationRegex": null,
       "widgetType": "text"
      },
      "widgetType": "text"
     }
    }
   }
  },
  "kernelspec": {
   "display_name": ".venv",
   "language": "python",
   "name": "python3"
  },
  "language_info": {
   "codemirror_mode": {
    "name": "ipython",
    "version": 3
   },
   "file_extension": ".py",
   "mimetype": "text/x-python",
   "name": "python",
   "nbconvert_exporter": "python",
   "pygments_lexer": "ipython3",
   "version": "3.12.3"
  }
 },
 "nbformat": 4,
 "nbformat_minor": 0
}
