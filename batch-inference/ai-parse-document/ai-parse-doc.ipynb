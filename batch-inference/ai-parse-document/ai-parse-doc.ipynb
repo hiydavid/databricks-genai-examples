{
 "cells": [
  {
   "cell_type": "markdown",
   "metadata": {
    "application/vnd.databricks.v1+cell": {
     "cellMetadata": {},
     "inputWidgets": {},
     "nuid": "fbb6661b-8e70-4483-9307-c11e4fcd548e",
     "showTitle": false,
     "tableResultSettingsMap": {},
     "title": ""
    }
   },
   "source": [
    "# Parse Document with `ai_parse_document`\n",
    "\n",
    "* To learn more, visit the official `ai_parse_document` [documentation page](https://docs.databricks.com/aws/en/sql/language-manual/functions/ai_parse_document).\n",
    "* This notebook shows how to use `ai_parse_document` on a sample PDF file.\n",
    "* This notebook should be run natively on Databricks, using `Serverless` compute option, with at least version 3 env. \n",
    "* For this example notebook, I'm using [Nvidia's company overview presentation from August 2025](https://s201.q4cdn.com/141608511/files/doc_presentations/2025/08/Q226-NVDA-Company-Overview-Final.pdf)."
   ]
  },
  {
   "cell_type": "code",
   "execution_count": 0,
   "metadata": {
    "application/vnd.databricks.v1+cell": {
     "cellMetadata": {
      "byteLimit": 2048000,
      "rowLimit": 10000
     },
     "inputWidgets": {},
     "nuid": "251f7bac-b268-47ad-a1f3-58cd490c36b5",
     "showTitle": false,
     "tableResultSettingsMap": {},
     "title": ""
    }
   },
   "outputs": [],
   "source": [
    "catalog = \"users\"  # TODO\n",
    "schema = \"david_huang\"  # TODO\n",
    "volume = \"ai_parse_doc_examples\"  # TODO"
   ]
  },
  {
   "cell_type": "code",
   "execution_count": 0,
   "metadata": {
    "application/vnd.databricks.v1+cell": {
     "cellMetadata": {
      "byteLimit": 2048000,
      "rowLimit": 10000
     },
     "inputWidgets": {},
     "nuid": "df82b4dd-3bee-4472-aaa1-36917c8bb880",
     "showTitle": false,
     "tableResultSettingsMap": {},
     "title": ""
    }
   },
   "outputs": [],
   "source": [
    "display(dbutils.fs.ls(f\"/Volumes/{catalog}/{schema}/{volume}/input/\"))"
   ]
  },
  {
   "cell_type": "code",
   "execution_count": 0,
   "metadata": {
    "application/vnd.databricks.v1+cell": {
     "cellMetadata": {
      "byteLimit": 2048000,
      "implicitDf": true,
      "rowLimit": 10000
     },
     "inputWidgets": {},
     "nuid": "f0615443-d432-45e9-a07a-295244fa866e",
     "showTitle": false,
     "tableResultSettingsMap": {},
     "title": ""
    }
   },
   "outputs": [],
   "source": [
    "spark.sql(\n",
    "    f\"\"\"\n",
    "    create or replace table {catalog}.{schema}.aipd_output_bronze\n",
    "    SELECT\n",
    "        path,\n",
    "        ai_parse_document(\n",
    "            content,\n",
    "            map(\n",
    "                'version', '2.0',\n",
    "                'imageOutputPath', '/Volumes/{catalog}/{schema}/{volume}/output/',\n",
    "                'descriptionElementTypes', '*'\n",
    "            )\n",
    "        ) as parsed_doc\n",
    "    FROM READ_FILES('/Volumes/{catalog}/{schema}/{volume}/input/', format => 'binaryFile')\n",
    "    ;\n",
    "    \"\"\"\n",
    ")"
   ]
  },
  {
   "cell_type": "code",
   "execution_count": 0,
   "metadata": {
    "application/vnd.databricks.v1+cell": {
     "cellMetadata": {
      "byteLimit": 2048000,
      "implicitDf": true,
      "rowLimit": 10000
     },
     "inputWidgets": {},
     "nuid": "f90e3450-0698-4ffb-9f65-40d90ad53b14",
     "showTitle": false,
     "tableResultSettingsMap": {},
     "title": ""
    }
   },
   "outputs": [],
   "source": [
    "display(\n",
    "    spark.sql(\n",
    "        f\"\"\"\n",
    "    SELECT\n",
    "        path,\n",
    "        parsed_doc:document:pages,\n",
    "        parsed_doc:document:elements,\n",
    "        parsed_doc:error_status,\n",
    "        parsed_doc:metadata\n",
    "    FROM {catalog}.{schema}.aipd_output_bronze\n",
    "    ;\n",
    "    \"\"\"\n",
    "    )\n",
    ")"
   ]
  }
 ],
 "metadata": {
  "application/vnd.databricks.v1+notebook": {
   "computePreferences": {
    "hardware": {
     "accelerator": null,
     "gpuPoolId": null,
     "memory": null
    }
   },
   "dashboards": [],
   "environmentMetadata": {
    "base_environment": "",
    "environment_version": "4"
   },
   "inputWidgetPreferences": null,
   "language": "python",
   "notebookMetadata": {
    "mostRecentlyExecutedCommandWithImplicitDF": {
     "commandId": -1,
     "dataframes": [
      "_sqldf"
     ]
    },
    "pythonIndentUnit": 2
   },
   "notebookName": "ai-parse-doc",
   "widgets": {}
  },
  "language_info": {
   "name": "python"
  }
 },
 "nbformat": 4,
 "nbformat_minor": 0
}
